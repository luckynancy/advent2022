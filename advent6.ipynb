{
 "cells": [
  {
   "cell_type": "markdown",
   "metadata": {},
   "source": [
    "Read the input into a text string"
   ]
  },
  {
   "cell_type": "code",
   "execution_count": 1,
   "metadata": {},
   "outputs": [],
   "source": [
    "input = None\n",
    "with open('advent6.txt', encoding='utf8') as f:\n",
    "    for line in f:\n",
    "        input = line"
   ]
  },
  {
   "cell_type": "markdown",
   "metadata": {},
   "source": [
    "Define a function to find the first nr unique char."
   ]
  },
  {
   "cell_type": "code",
   "execution_count": 2,
   "metadata": {},
   "outputs": [],
   "source": [
    "def finder(input, nr):\n",
    "    \n",
    "    buffer = [x for x in input]\n",
    "    \n",
    "    found = False\n",
    "    i = 0\n",
    "    while (found is not True) and i+nr < len(buffer):\n",
    "        if len(set(buffer[i:i+nr])) == nr:\n",
    "            print('Firt marker:',buffer[i:i+nr])\n",
    "            print('First marker after character:', i+nr)\n",
    "            found = True\n",
    "        else:\n",
    "            pass\n",
    "            \n",
    "        i += 1\n",
    "    "
   ]
  },
  {
   "cell_type": "markdown",
   "metadata": {},
   "source": [
    "Part I"
   ]
  },
  {
   "cell_type": "code",
   "execution_count": 3,
   "metadata": {},
   "outputs": [
    {
     "name": "stdout",
     "output_type": "stream",
     "text": [
      "Firt marker: ['c', 'z', 'h', 'q']\n",
      "first marker after character: 1287\n"
     ]
    }
   ],
   "source": [
    "finder(input, 4) "
   ]
  },
  {
   "cell_type": "markdown",
   "metadata": {},
   "source": [
    "Part II"
   ]
  },
  {
   "cell_type": "code",
   "execution_count": 4,
   "metadata": {},
   "outputs": [
    {
     "name": "stdout",
     "output_type": "stream",
     "text": [
      "Firt marker: ['r', 't', 'b', 'w', 's', 'j', 'z', 'q', 'h', 'g', 'f', 'l', 'd', 'n']\n",
      "first marker after character: 3716\n"
     ]
    }
   ],
   "source": [
    "finder(input, 14) "
   ]
  }
 ],
 "metadata": {
  "kernelspec": {
   "display_name": "Python 3",
   "language": "python",
   "name": "python3"
  },
  "language_info": {
   "codemirror_mode": {
    "name": "ipython",
    "version": 3
   },
   "file_extension": ".py",
   "mimetype": "text/x-python",
   "name": "python",
   "nbconvert_exporter": "python",
   "pygments_lexer": "ipython3",
   "version": "3.7.4"
  }
 },
 "nbformat": 4,
 "nbformat_minor": 2
}
