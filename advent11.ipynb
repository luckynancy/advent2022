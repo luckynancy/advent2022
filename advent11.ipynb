{
 "cells": [
  {
   "cell_type": "code",
   "execution_count": 1,
   "metadata": {},
   "outputs": [],
   "source": [
    "from math import floor\n",
    "import collections; \n",
    "\n",
    "class Monkey0:\n",
    "    def __init__(self, items, div, true_outcome, false_outcome):\n",
    "        self.items = collections.deque(items)\n",
    "        self.div = div\n",
    "        self.lcm = 2*3*5*7*11*13*17*19\n",
    "        self.true_outcome = true_outcome\n",
    "        self.false_outcome = false_outcome\n",
    "    \n",
    "    def test(self, new):\n",
    "        return self.true_outcome if new % self.div == 0 else self.false_outcome\n",
    "        \n",
    "    def add_item(self, item):\n",
    "        self.items.append(item)\n",
    "        \n",
    "    def exame_item(self, part1 = True):\n",
    "        output = collections.deque()\n",
    "        while len(self.items) != 0:\n",
    "            old = self.items.popleft()\n",
    "            val = self.operation(old)\n",
    "            \n",
    "            if part1:\n",
    "                val = floor(val/3) \n",
    "            else:\n",
    "                if val > self.lcm: \n",
    "                    val = val % self.lcm \n",
    "                    \n",
    "            output.append([self.test(val), val])\n",
    "        return output\n",
    "        \n",
    "    def show_item(self):\n",
    "        return self.items\n",
    "\n",
    "    def operation(self, old):\n",
    "        return old * 2\n",
    "    \n",
    "class Monkey1(Monkey0):\n",
    "    def operation(self, old):\n",
    "        return old + 3\n",
    "\n",
    "class Monkey2(Monkey0):\n",
    "    def operation(self, old):\n",
    "        return old + 6\n",
    "\n",
    "class Monkey3(Monkey0):\n",
    "    def operation(self, old):\n",
    "        return old + 5  \n",
    "    \n",
    "class Monkey4(Monkey0):\n",
    "    def operation(self, old):\n",
    "        return old + 8 \n",
    "    \n",
    "class Monkey5(Monkey0):\n",
    "    def operation(self, old):\n",
    "        return old * 5  \n",
    "    \n",
    "class Monkey6(Monkey0):\n",
    "    def operation(self, old):\n",
    "        return old * old  \n",
    "    \n",
    "class Monkey7(Monkey0):\n",
    "    def operation(self, old):\n",
    "        return old + 4  "
   ]
  },
  {
   "cell_type": "code",
   "execution_count": 2,
   "metadata": {},
   "outputs": [],
   "source": [
    "def initial_state():\n",
    "    m0 = Monkey0([96, 60, 68, 91, 83, 57, 85], 17, 2, 5)\n",
    "    m1 = Monkey1([75, 78, 68, 81, 73, 99], 13, 7, 4)\n",
    "    m2 = Monkey2([69, 86, 67, 55, 96, 69, 94, 85], 19, 6, 5)\n",
    "    m3 = Monkey3([88, 75, 74, 98, 80], 7, 7, 1)\n",
    "    m4 = Monkey4([82], 11, 0, 2)\n",
    "    m5 = Monkey5([72, 92, 92], 3, 6, 3)\n",
    "    m6 = Monkey6([74, 61], 2, 3, 1)\n",
    "    m7 = Monkey7([76, 86, 83, 55], 5, 4, 0)\n",
    "\n",
    "    monkeys = {0:m0, 1:m1, 2:m2, 3:m3, 4:m4, 5:m5, 6:m6, 7:m7}\n",
    "    activity = [0 for x in range(len(monkeys))]\n",
    "    return monkeys, activity\n",
    "\n",
    "\n",
    "def inspection(rounds = 20, part1 = True):\n",
    "    monkeys, activity = initial_state()\n",
    "    nr = len(monkeys)\n",
    "    \n",
    "    for k in range(rounds):\n",
    "        for i in range(nr):\n",
    "            temp = monkeys[i].exame_item(part1) \n",
    "            if len(temp) != 0 :\n",
    "                activity[i] += len(temp)\n",
    "                #print(len(temp))\n",
    "            while len(temp) != 0:\n",
    "                item = temp.popleft()\n",
    "                monkeys[item[0]].add_item(item[1]) \n",
    "\n",
    "    activity.sort()\n",
    "    display('The level of monkey business is {}'.format(activity[-2]*activity[-1]))"
   ]
  },
  {
   "cell_type": "markdown",
   "metadata": {},
   "source": [
    "Part I"
   ]
  },
  {
   "cell_type": "code",
   "execution_count": 3,
   "metadata": {},
   "outputs": [
    {
     "data": {
      "text/plain": [
       "'The level of monkey business is 56595'"
      ]
     },
     "metadata": {},
     "output_type": "display_data"
    }
   ],
   "source": [
    "inspection()"
   ]
  },
  {
   "cell_type": "markdown",
   "metadata": {},
   "source": [
    "Part II"
   ]
  },
  {
   "cell_type": "code",
   "execution_count": 4,
   "metadata": {},
   "outputs": [
    {
     "data": {
      "text/plain": [
       "'The level of monkey business is 15693274740'"
      ]
     },
     "metadata": {},
     "output_type": "display_data"
    }
   ],
   "source": [
    "inspection(10000, False)"
   ]
  }
 ],
 "metadata": {
  "kernelspec": {
   "display_name": "Python 3",
   "language": "python",
   "name": "python3"
  },
  "language_info": {
   "codemirror_mode": {
    "name": "ipython",
    "version": 3
   },
   "file_extension": ".py",
   "mimetype": "text/x-python",
   "name": "python",
   "nbconvert_exporter": "python",
   "pygments_lexer": "ipython3",
   "version": "3.7.4"
  }
 },
 "nbformat": 4,
 "nbformat_minor": 2
}
