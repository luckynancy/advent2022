{
 "cells": [
  {
   "cell_type": "markdown",
   "metadata": {},
   "source": [
    "Read the input to a list"
   ]
  },
  {
   "cell_type": "code",
   "execution_count": 1,
   "metadata": {},
   "outputs": [],
   "source": [
    "input = []\n",
    "with open('advent5.txt', encoding='utf8') as f:\n",
    "    for line in f:\n",
    "        input.append(line.split(','))\n"
   ]
  },
  {
   "cell_type": "markdown",
   "metadata": {},
   "source": [
    "We create a list with stack to simulate the cargo"
   ]
  },
  {
   "cell_type": "code",
   "execution_count": 2,
   "metadata": {},
   "outputs": [
    {
     "data": {
      "text/plain": [
       "[['D', 'T', 'W', 'F', 'J', 'S', 'H', 'N'],\n",
       " ['H', 'R', 'P', 'Q', 'T', 'N', 'B', 'G'],\n",
       " ['L', 'Q', 'V'],\n",
       " ['N', 'B', 'S', 'W', 'R', 'Q'],\n",
       " ['N', 'D', 'F', 'T', 'V', 'M', 'B'],\n",
       " ['M', 'D', 'B', 'V', 'H', 'T', 'R'],\n",
       " ['D', 'B', 'Q', 'J'],\n",
       " ['D', 'N', 'J', 'V', 'R', 'Z', 'H', 'Q'],\n",
       " ['B', 'N', 'H', 'M', 'S']]"
      ]
     },
     "execution_count": 2,
     "metadata": {},
     "output_type": "execute_result"
    }
   ],
   "source": [
    "cargo = []\n",
    "for i in range(9):\n",
    "    cargo.append([])\n",
    "    for j in range(8):\n",
    "        value_ij = input[j][0][1:-1:4][i]\n",
    "        if value_ij != ' ':\n",
    "            cargo[i].append(value_ij)   \n",
    "cargo = [list(x)[::-1] for x in cargo]\n",
    "cargo"
   ]
  },
  {
   "cell_type": "markdown",
   "metadata": {},
   "source": [
    "Store procedure in a list"
   ]
  },
  {
   "cell_type": "code",
   "execution_count": 3,
   "metadata": {},
   "outputs": [],
   "source": [
    "procedure = [x[0].split() for x in input[10:]]"
   ]
  },
  {
   "cell_type": "markdown",
   "metadata": {},
   "source": [
    "PART 1 & PART II"
   ]
  },
  {
   "cell_type": "code",
   "execution_count": 4,
   "metadata": {},
   "outputs": [],
   "source": [
    "partI = False\n",
    "\n",
    "for step in procedure[0:]:\n",
    "    \n",
    "    nr = int(step[1])\n",
    "    from_stack = int(step[3])-1\n",
    "    to_stack = int(step[5])-1\n",
    "    \n",
    "    i = 0\n",
    "    while i < nr:\n",
    "        if partI:\n",
    "            cargo[to_stack].append(cargo[from_stack][-1])\n",
    "            cargo[from_stack].pop()\n",
    "        else: # part II if partI is set False\n",
    "            cargo[to_stack].append(cargo[from_stack][-nr+i])\n",
    "            cargo[from_stack].pop(-nr+i)\n",
    "        i += 1\n",
    "    "
   ]
  },
  {
   "cell_type": "code",
   "execution_count": 5,
   "metadata": {},
   "outputs": [
    {
     "data": {
      "text/plain": [
       "'QLFQDBBHM'"
      ]
     },
     "execution_count": 5,
     "metadata": {},
     "output_type": "execute_result"
    }
   ],
   "source": [
    "output = [x[-1] for x in cargo]\n",
    "\"\".join([str(i) for i in output])"
   ]
  },
  {
   "cell_type": "code",
   "execution_count": null,
   "metadata": {},
   "outputs": [],
   "source": []
  },
  {
   "cell_type": "code",
   "execution_count": null,
   "metadata": {},
   "outputs": [],
   "source": []
  }
 ],
 "metadata": {
  "kernelspec": {
   "display_name": "Python 3",
   "language": "python",
   "name": "python3"
  },
  "language_info": {
   "codemirror_mode": {
    "name": "ipython",
    "version": 3
   },
   "file_extension": ".py",
   "mimetype": "text/x-python",
   "name": "python",
   "nbconvert_exporter": "python",
   "pygments_lexer": "ipython3",
   "version": "3.7.4"
  }
 },
 "nbformat": 4,
 "nbformat_minor": 2
}
