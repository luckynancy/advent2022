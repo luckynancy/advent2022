{
 "cells": [
  {
   "cell_type": "markdown",
   "metadata": {},
   "source": [
    "Read input"
   ]
  },
  {
   "cell_type": "code",
   "execution_count": 1,
   "metadata": {},
   "outputs": [],
   "source": [
    "input = []\n",
    "with open('advent12.txt', encoding='utf8') as f:\n",
    "    for line in f:\n",
    "        x = line.split()\n",
    "        input.append([*x[0]])\n",
    "\n",
    "import pandas as pd\n",
    "df = pd.DataFrame(input)"
   ]
  },
  {
   "cell_type": "markdown",
   "metadata": {},
   "source": [
    "Data cleanning and prep"
   ]
  },
  {
   "cell_type": "code",
   "execution_count": 2,
   "metadata": {},
   "outputs": [],
   "source": [
    "def find_loc(df, char):\n",
    "    out = []\n",
    "    for col in df.columns:\n",
    "        if len(df[df[col] == char].index) == 0:\n",
    "            pass\n",
    "        else:\n",
    "            for idx in df[df[col] == char].index:\n",
    "                out.append([idx, col])\n",
    "    return out\n",
    "\n",
    "start = find_loc(df, 'S')[0] # used for part I\n",
    "df.iloc[start[0], start[1]] = 'a'\n",
    "a_loc = find_loc(df, 'a') # used for part II\n",
    "\n",
    "\n",
    "top = find_loc(df, 'E')[0]\n",
    "df.iloc[top[0], top[1]] = 'z'"
   ]
  },
  {
   "cell_type": "markdown",
   "metadata": {},
   "source": [
    "Map the char to numerical elevation"
   ]
  },
  {
   "cell_type": "code",
   "execution_count": 3,
   "metadata": {},
   "outputs": [],
   "source": [
    "import string \n",
    "charr = list(string.ascii_lowercase) \n",
    "\n",
    "elevation = {}\n",
    "for i in range(26):\n",
    "    elevation.update({charr[i]:i})\n",
    "df = df.applymap(lambda x: elevation[x])"
   ]
  },
  {
   "cell_type": "code",
   "execution_count": 4,
   "metadata": {},
   "outputs": [],
   "source": [
    "import collections\n",
    "\n",
    "def breadth_first_search(df, start, top):\n",
    "    queue = collections.deque([[start]])\n",
    "    seen = set(start)\n",
    "\n",
    "    grid = df.values\n",
    "    (height, width) = grid.shape\n",
    "\n",
    "    while queue:\n",
    "        path = queue.popleft()\n",
    "        x, y = path[-1]\n",
    "        if x == top[0] and y == top[1]:\n",
    "            return len(path)-1\n",
    "        for x2, y2 in ((x+1,y), (x-1,y), (x,y+1), (x,y-1)):\n",
    "            if 0 <= x2 < height and 0 <= y2 < width and grid[x2][y2]-grid[x][y] < 2 and (x2, y2) not in seen:\n",
    "                queue.append(path + [(x2, y2)])\n",
    "                seen.add((x2, y2))"
   ]
  },
  {
   "cell_type": "markdown",
   "metadata": {},
   "source": [
    "Part I"
   ]
  },
  {
   "cell_type": "code",
   "execution_count": 5,
   "metadata": {},
   "outputs": [
    {
     "data": {
      "text/plain": [
       "'Minimal required steps are 361'"
      ]
     },
     "metadata": {},
     "output_type": "display_data"
    }
   ],
   "source": [
    "display('Minimal required steps are {}'.format(breadth_first_search(df, start, top)))"
   ]
  },
  {
   "cell_type": "markdown",
   "metadata": {},
   "source": [
    "Part II"
   ]
  },
  {
   "cell_type": "code",
   "execution_count": 6,
   "metadata": {},
   "outputs": [
    {
     "data": {
      "text/plain": [
       "'Minimal required steps from any a location are 354'"
      ]
     },
     "metadata": {},
     "output_type": "display_data"
    }
   ],
   "source": [
    "ls = []\n",
    "for start in a_loc:\n",
    "    steps = breadth_first_search(df, start, top)\n",
    "    if steps is not None:\n",
    "        ls.append(breadth_first_search(df, start, top))\n",
    "display('Minimal required steps from any a location are {}'.format(min(ls)))"
   ]
  }
 ],
 "metadata": {
  "kernelspec": {
   "display_name": "Python 3",
   "language": "python",
   "name": "python3"
  },
  "language_info": {
   "codemirror_mode": {
    "name": "ipython",
    "version": 3
   },
   "file_extension": ".py",
   "mimetype": "text/x-python",
   "name": "python",
   "nbconvert_exporter": "python",
   "pygments_lexer": "ipython3",
   "version": "3.7.4"
  }
 },
 "nbformat": 4,
 "nbformat_minor": 2
}
