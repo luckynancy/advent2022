{
 "cells": [
  {
   "cell_type": "markdown",
   "metadata": {},
   "source": [
    "Define the priority list to for all item type"
   ]
  },
  {
   "cell_type": "code",
   "execution_count": 1,
   "metadata": {},
   "outputs": [
    {
     "data": {
      "text/html": [
       "<div>\n",
       "<style scoped>\n",
       "    .dataframe tbody tr th:only-of-type {\n",
       "        vertical-align: middle;\n",
       "    }\n",
       "\n",
       "    .dataframe tbody tr th {\n",
       "        vertical-align: top;\n",
       "    }\n",
       "\n",
       "    .dataframe thead th {\n",
       "        text-align: right;\n",
       "    }\n",
       "</style>\n",
       "<table border=\"1\" class=\"dataframe\">\n",
       "  <thead>\n",
       "    <tr style=\"text-align: right;\">\n",
       "      <th></th>\n",
       "      <th>prio</th>\n",
       "    </tr>\n",
       "  </thead>\n",
       "  <tbody>\n",
       "    <tr>\n",
       "      <td>a</td>\n",
       "      <td>1</td>\n",
       "    </tr>\n",
       "    <tr>\n",
       "      <td>b</td>\n",
       "      <td>2</td>\n",
       "    </tr>\n",
       "  </tbody>\n",
       "</table>\n",
       "</div>"
      ],
      "text/plain": [
       "   prio\n",
       "a     1\n",
       "b     2"
      ]
     },
     "execution_count": 1,
     "metadata": {},
     "output_type": "execute_result"
    }
   ],
   "source": [
    "import string \n",
    "import pandas as pd\n",
    "prio = list(string.ascii_lowercase) + list(string.ascii_uppercase)\n",
    "prio = pd.DataFrame(range(1,53), prio, columns = ['prio'])\n",
    "prio.head(2)"
   ]
  },
  {
   "cell_type": "markdown",
   "metadata": {},
   "source": [
    "#### Read the input as a list"
   ]
  },
  {
   "cell_type": "code",
   "execution_count": 2,
   "metadata": {},
   "outputs": [
    {
     "name": "stdout",
     "output_type": "stream",
     "text": [
      "300\n"
     ]
    }
   ],
   "source": [
    "rucksacks = []\n",
    "with open('advent3.txt', encoding='utf8') as f:\n",
    "    for line in f:\n",
    "        rucksacks.append(line.strip())\n",
    "print(len(rucksacks))"
   ]
  },
  {
   "cell_type": "markdown",
   "metadata": {},
   "source": [
    "#### Help function to aggregate frequency and map the priority, then sum the priority"
   ]
  },
  {
   "cell_type": "code",
   "execution_count": 3,
   "metadata": {},
   "outputs": [],
   "source": [
    "def agg(ls, prio):\n",
    "    # define a DataFrame from the list input, use groupby to get frequency of each char\n",
    "    freq = pd.DataFrame(ls, columns = ['char']).groupby('char')['char'].count()\n",
    "    \n",
    "    # join priority df for all existing item type\n",
    "    df = pd.concat([freq, prio], axis = 1, join = 'inner')\n",
    "    df.rename(columns = {'char':'count'}, inplace = True)\n",
    "    \n",
    "    return print('sum of the priorities:', (df['count'] * df.prio).sum())"
   ]
  },
  {
   "cell_type": "markdown",
   "metadata": {},
   "source": [
    "#### Part 1: find the common item type and aggregate priority"
   ]
  },
  {
   "cell_type": "code",
   "execution_count": 4,
   "metadata": {},
   "outputs": [
    {
     "name": "stdout",
     "output_type": "stream",
     "text": [
      "sum of the priorities: 8233\n"
     ]
    }
   ],
   "source": [
    "def common(x):\n",
    "    x = x.strip()\n",
    "    half = int(len(x)/2)\n",
    "    left = set(x[0:half])\n",
    "    right = set(x[half:])\n",
    "    common_char = left.intersection(right)\n",
    "    return common_char.pop()\n",
    "\n",
    "common_char = [common(x) for x in rucksacks]\n",
    "agg(common_char, prio)"
   ]
  },
  {
   "cell_type": "markdown",
   "metadata": {},
   "source": [
    "#### Part 2, find commom badge and aggregate priority over groups"
   ]
  },
  {
   "cell_type": "code",
   "execution_count": 5,
   "metadata": {},
   "outputs": [
    {
     "name": "stdout",
     "output_type": "stream",
     "text": [
      "sum of the priorities: 2821\n"
     ]
    }
   ],
   "source": [
    "badge = []\n",
    "for i in range(0,len(rucksacks),3):\n",
    "    group = rucksacks[i:i+3]\n",
    "    badge.append(set(group[0]).intersection(group[1]).intersection(group[2]).pop())\n",
    "\n",
    "agg(badge, prio)"
   ]
  }
 ],
 "metadata": {
  "kernelspec": {
   "display_name": "Python 3",
   "language": "python",
   "name": "python3"
  },
  "language_info": {
   "codemirror_mode": {
    "name": "ipython",
    "version": 3
   },
   "file_extension": ".py",
   "mimetype": "text/x-python",
   "name": "python",
   "nbconvert_exporter": "python",
   "pygments_lexer": "ipython3",
   "version": "3.7.4"
  }
 },
 "nbformat": 4,
 "nbformat_minor": 2
}
