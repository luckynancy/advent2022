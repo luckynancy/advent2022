{
 "cells": [
  {
   "cell_type": "markdown",
   "metadata": {},
   "source": [
    "#### Read the input into a list"
   ]
  },
  {
   "cell_type": "code",
   "execution_count": 1,
   "metadata": {},
   "outputs": [
    {
     "data": {
      "text/plain": [
       "2500"
      ]
     },
     "execution_count": 1,
     "metadata": {},
     "output_type": "execute_result"
    }
   ],
   "source": [
    "input = []\n",
    "with open('advent2.txt', encoding='utf8') as f:\n",
    "    for line in f:\n",
    "        input.append(line.strip().split(' '))\n",
    "len(input)"
   ]
  },
  {
   "cell_type": "markdown",
   "metadata": {},
   "source": [
    "#### Part 1, find total score acording to strategy guide"
   ]
  },
  {
   "cell_type": "code",
   "execution_count": 2,
   "metadata": {},
   "outputs": [],
   "source": [
    "# opponent: A for Rock, B for Paper, and C for Scissors\n",
    "# me: X for Rock, Y for Paper, and Z for Scissors \n",
    "\n",
    "compare = {'A':'X', 'B':'Y', 'C':'Z'} \n",
    "shape_score = {'X':1, 'Y':2, 'Z':3}\n",
    "optimal = {'A':'Y', 'B':'Z', 'C':'X'} \n",
    "\n",
    "def scoring_part1(round):\n",
    "    def outcome_score():\n",
    "        if round[1] == optimal[round[0]]:\n",
    "            return 6\n",
    "        elif round[1] == compare[round[0]]:\n",
    "            return 3\n",
    "        else:\n",
    "            return 0\n",
    "\n",
    "    return shape_score[round[1]] + outcome_score()"
   ]
  },
  {
   "cell_type": "code",
   "execution_count": 3,
   "metadata": {},
   "outputs": [
    {
     "data": {
      "text/plain": [
       "9651"
      ]
     },
     "execution_count": 3,
     "metadata": {},
     "output_type": "execute_result"
    }
   ],
   "source": [
    "sum([scoring_part1(x) for x in input])"
   ]
  },
  {
   "cell_type": "markdown",
   "metadata": {},
   "source": [
    "#### Part 2, find score according to new strategy guide"
   ]
  },
  {
   "cell_type": "code",
   "execution_count": 4,
   "metadata": {},
   "outputs": [],
   "source": [
    "#  X means you need to lose, \n",
    "# Y means you need to end the round in a draw, \n",
    "# and Z means you need to win.\n",
    "\n",
    "bad_play = {'A':'C', 'B':'A', 'C':'B'} \n",
    "\n",
    "def scoring_part2(round):\n",
    "    if round[1] == 'Z':\n",
    "        return shape_score[optimal[round[0]]] + 6\n",
    "    elif round[1] == 'Y':\n",
    "        return shape_score[compare[round[0]]] + 3\n",
    "    else:\n",
    "        return shape_score[compare[bad_play[round[0]]]] + 0\n",
    "       "
   ]
  },
  {
   "cell_type": "code",
   "execution_count": 5,
   "metadata": {},
   "outputs": [
    {
     "data": {
      "text/plain": [
       "10560"
      ]
     },
     "execution_count": 5,
     "metadata": {},
     "output_type": "execute_result"
    }
   ],
   "source": [
    "sum([scoring_part2(x) for x in input])"
   ]
  }
 ],
 "metadata": {
  "kernelspec": {
   "display_name": "Python 3",
   "language": "python",
   "name": "python3"
  },
  "language_info": {
   "codemirror_mode": {
    "name": "ipython",
    "version": 3
   },
   "file_extension": ".py",
   "mimetype": "text/x-python",
   "name": "python",
   "nbconvert_exporter": "python",
   "pygments_lexer": "ipython3",
   "version": "3.7.4"
  }
 },
 "nbformat": 4,
 "nbformat_minor": 2
}
