{
 "cells": [
  {
   "cell_type": "markdown",
   "metadata": {},
   "source": [
    "Read input into a list"
   ]
  },
  {
   "cell_type": "code",
   "execution_count": 1,
   "metadata": {},
   "outputs": [],
   "source": [
    "input = []\n",
    "with open('advent7.txt', encoding='utf8') as f:\n",
    "    for line in f:\n",
    "        input.append(line.strip().split())"
   ]
  },
  {
   "cell_type": "markdown",
   "metadata": {},
   "source": [
    "Build a tree to store the file system"
   ]
  },
  {
   "cell_type": "code",
   "execution_count": 2,
   "metadata": {},
   "outputs": [],
   "source": [
    "from anytree import Node, RenderTree\n",
    "\n",
    "root = Node(\"root\") \n",
    "\n",
    "current_parent = None\n",
    "i = 0\n",
    "while i < len(input):\n",
    "    item = input[i]\n",
    "\n",
    "    if item[1] == 'cd':\n",
    "        if item[2] == '/':           \n",
    "            current_parent = root\n",
    "        elif item[2] == '..':\n",
    "            current_parent = current_parent.parent\n",
    "        else:     \n",
    "            current_parent = Node(item[2], parent = current_parent)           \n",
    "    \n",
    "    elif (item[1] == 'ls') or (item[0] == 'dir'):\n",
    "        pass\n",
    "    \n",
    "    else:\n",
    "        Node(item[1], parent=current_parent, val = int(item[0]))    \n",
    "    \n",
    "    i += 1    "
   ]
  },
  {
   "cell_type": "markdown",
   "metadata": {},
   "source": [
    "Part I"
   ]
  },
  {
   "cell_type": "code",
   "execution_count": 3,
   "metadata": {},
   "outputs": [
    {
     "name": "stdout",
     "output_type": "stream",
     "text": [
      "sum is  1297159\n"
     ]
    }
   ],
   "source": [
    "def count_nodes(node):\n",
    "    tot, result = 0, 0     \n",
    "    for item in node.children:\n",
    "        if item.is_leaf:\n",
    "            tot += item.val\n",
    "        else:\n",
    "            nr,  res = count_nodes(item)\n",
    "            tot += nr \n",
    "            result += res  \n",
    "    \n",
    "    result += tot if (tot < 100000) else 0\n",
    "    return tot,  result\n",
    "\n",
    "_, target = count_nodes(root)\n",
    "\n",
    "print('sum is ', target)"
   ]
  },
  {
   "cell_type": "markdown",
   "metadata": {},
   "source": [
    "Part II"
   ]
  },
  {
   "cell_type": "code",
   "execution_count": 4,
   "metadata": {},
   "outputs": [
    {
     "name": "stdout",
     "output_type": "stream",
     "text": [
      "Removal disc is of size:  3866390\n"
     ]
    }
   ],
   "source": [
    "def count_nodes(node):\n",
    "    tot, target = 0, None\n",
    "    need = 30000000 - (70000000 - 43636666)\n",
    "    best = need\n",
    "    target = None\n",
    "    \n",
    "    for item in node.children:\n",
    "        if item.is_leaf:\n",
    "            tot += item.val\n",
    "        else:\n",
    "            nr, best_i, target_i = count_nodes(item)   \n",
    "            tot += nr\n",
    "            if best_i < best:\n",
    "                best = best_i\n",
    "                target = target_i\n",
    "                \n",
    "    if (tot - need > 0) and (tot - need < best):\n",
    "        best = tot - need\n",
    "        target = tot\n",
    " \n",
    "    return tot, best, target\n",
    "\n",
    "_, _, targ = count_nodes(root)\n",
    "print('Removal disc is of size: ', targ)"
   ]
  },
  {
   "cell_type": "code",
   "execution_count": null,
   "metadata": {},
   "outputs": [],
   "source": []
  },
  {
   "cell_type": "code",
   "execution_count": null,
   "metadata": {},
   "outputs": [],
   "source": []
  }
 ],
 "metadata": {
  "kernelspec": {
   "display_name": "Python 3",
   "language": "python",
   "name": "python3"
  },
  "language_info": {
   "codemirror_mode": {
    "name": "ipython",
    "version": 3
   },
   "file_extension": ".py",
   "mimetype": "text/x-python",
   "name": "python",
   "nbconvert_exporter": "python",
   "pygments_lexer": "ipython3",
   "version": "3.7.4"
  }
 },
 "nbformat": 4,
 "nbformat_minor": 2
}
