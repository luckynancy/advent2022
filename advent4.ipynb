{
 "cells": [
  {
   "cell_type": "markdown",
   "metadata": {},
   "source": [
    "#### Get the input into a list"
   ]
  },
  {
   "cell_type": "code",
   "execution_count": 3,
   "metadata": {},
   "outputs": [
    {
     "name": "stdout",
     "output_type": "stream",
     "text": [
      "Input size: 1000\n"
     ]
    }
   ],
   "source": [
    "input = []\n",
    "with open('advent4.txt', encoding='utf8') as f:\n",
    "    for line in f:\n",
    "        input.append(line.split(','))\n",
    "print('Input size:', len(input))"
   ]
  },
  {
   "cell_type": "code",
   "execution_count": 13,
   "metadata": {},
   "outputs": [],
   "source": [
    "def compare(pair, subset = True):\n",
    "    \n",
    "    def clean(x):\n",
    "        x = x.split('-')\n",
    "        start = int(x[0])\n",
    "        stop = int(x[1])+1\n",
    "        return set(range(start, stop))\n",
    "        \n",
    "    left, right = clean(pair[0]), clean(pair[1])\n",
    "    \n",
    "    is_subset = (left.issubset(right) or right.issubset(left))\n",
    "    is_overlap = len(left.intersection(right)) != 0\n",
    "    \n",
    "    output = is_subset if subset == True else is_overlap\n",
    "    return output"
   ]
  },
  {
   "cell_type": "markdown",
   "metadata": {},
   "source": [
    "#### Part one, find assignment pairs where one range fully contain the other"
   ]
  },
  {
   "cell_type": "code",
   "execution_count": 11,
   "metadata": {},
   "outputs": [
    {
     "data": {
      "text/plain": [
       "657"
      ]
     },
     "execution_count": 11,
     "metadata": {},
     "output_type": "execute_result"
    }
   ],
   "source": [
    "sum([compare(x) for x in input])"
   ]
  },
  {
   "cell_type": "markdown",
   "metadata": {},
   "source": [
    "#### Part two, find assignment pairs where the ranges overlap "
   ]
  },
  {
   "cell_type": "code",
   "execution_count": 12,
   "metadata": {},
   "outputs": [
    {
     "data": {
      "text/plain": [
       "938"
      ]
     },
     "execution_count": 12,
     "metadata": {},
     "output_type": "execute_result"
    }
   ],
   "source": [
    "sum([compare(x, subset = False) for x in input])"
   ]
  }
 ],
 "metadata": {
  "kernelspec": {
   "display_name": "Python 3",
   "language": "python",
   "name": "python3"
  },
  "language_info": {
   "codemirror_mode": {
    "name": "ipython",
    "version": 3
   },
   "file_extension": ".py",
   "mimetype": "text/x-python",
   "name": "python",
   "nbconvert_exporter": "python",
   "pygments_lexer": "ipython3",
   "version": "3.7.4"
  }
 },
 "nbformat": 4,
 "nbformat_minor": 2
}
