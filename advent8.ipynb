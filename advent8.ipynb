{
 "cells": [
  {
   "cell_type": "code",
   "execution_count": 1,
   "metadata": {},
   "outputs": [],
   "source": [
    "input = []\n",
    "with open('advent8.txt', encoding='utf8') as f:\n",
    "    for line in f:\n",
    "        input.append([int(x) for x in [*line.split()[0]]])"
   ]
  },
  {
   "cell_type": "code",
   "execution_count": 2,
   "metadata": {},
   "outputs": [],
   "source": [
    "import pandas as pd\n",
    "df = pd.DataFrame(input)"
   ]
  },
  {
   "cell_type": "markdown",
   "metadata": {},
   "source": [
    "Part I"
   ]
  },
  {
   "cell_type": "code",
   "execution_count": 3,
   "metadata": {},
   "outputs": [
    {
     "name": "stdout",
     "output_type": "stream",
     "text": [
      "visible tree:  1832\n"
     ]
    }
   ],
   "source": [
    "df_part1 = df.copy()\n",
    "\n",
    "for i in range(1, df.shape[0]-1):\n",
    "    for j in range(1, df.shape[1]-1):\n",
    "        val = df.iloc[i,j]\n",
    "        face1 = val <= max(df.iloc[0:i,j])\n",
    "        face2 = val <= max(df.iloc[i,0:j])\n",
    "        face3 = val <= max(df.iloc[i+1:,j])\n",
    "        face4 = val <= max(df.iloc[i,j+1:])\n",
    "        \n",
    "        if face1 and face2 and face3 and face4:\n",
    "            df_part1.iloc[i,j]= None\n",
    "\n",
    "print('visible tree: ', (~df_part1.isna()).sum().sum() )"
   ]
  },
  {
   "cell_type": "markdown",
   "metadata": {},
   "source": [
    "Part II"
   ]
  },
  {
   "cell_type": "code",
   "execution_count": 4,
   "metadata": {},
   "outputs": [
    {
     "name": "stdout",
     "output_type": "stream",
     "text": [
      "Highest scenic score 157320\n"
     ]
    }
   ],
   "source": [
    "def count(val, df):\n",
    "    \n",
    "    face1, k = 0, 1\n",
    "    while (i-k) >= 0:\n",
    "        face1 += 1\n",
    "        if df.iloc[i-k,j] < val :  \n",
    "            k += 1\n",
    "        else:\n",
    "            break\n",
    "\n",
    "    face2, k = 0, 1\n",
    "    while i+k < df.shape[0]:\n",
    "        face2 += 1\n",
    "        if df.iloc[i+k,j] < val :  \n",
    "            k += 1\n",
    "        else:\n",
    "            break\n",
    "\n",
    "    face3, k = 0, 1\n",
    "    while j-k >= 0:\n",
    "        face3 += 1 \n",
    "        if df.iloc[i, j-k] < val :  \n",
    "            k += 1\n",
    "        else: \n",
    "            break\n",
    "\n",
    "    face4, k = 0, 1\n",
    "    while j+k < df.shape[1]:\n",
    "        face4 += 1 \n",
    "        if df.iloc[i, j+k] < val :   \n",
    "            k += 1\n",
    "        else:\n",
    "            break\n",
    "\n",
    "    return face1*face2*face3*face4\n",
    "\n",
    "df_new = df.copy()\n",
    "for i in range(1,df_new.shape[0]-1):\n",
    "    for j in range(1,df_new.shape[1]-1):\n",
    "        df_new.iloc[i,j] = count(df.iloc[i,j], df)\n",
    "\n",
    "print('Highest scenic score,', df_new.iloc[1:-1,1:-1].max().max())"
   ]
  }
 ],
 "metadata": {
  "kernelspec": {
   "display_name": "Python 3",
   "language": "python",
   "name": "python3"
  },
  "language_info": {
   "codemirror_mode": {
    "name": "ipython",
    "version": 3
   },
   "file_extension": ".py",
   "mimetype": "text/x-python",
   "name": "python",
   "nbconvert_exporter": "python",
   "pygments_lexer": "ipython3",
   "version": "3.7.4"
  }
 },
 "nbformat": 4,
 "nbformat_minor": 2
}
